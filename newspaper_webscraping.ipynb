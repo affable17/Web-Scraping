{
 "cells": [
  {
   "cell_type": "markdown",
   "id": "b49d9fa9",
   "metadata": {},
   "source": [
    "매일경제(https://www.mk.co.kr; **부동산, 증권 category 제외)**의 모든 기사 관련 데이터를 수집 \n",
    "정제한 후 jsonl file에 저장하는 코드를 작성   "
   ]
  },
  {
   "cell_type": "code",
   "execution_count": 1,
   "id": "079330e4",
   "metadata": {},
   "outputs": [],
   "source": [
    "import requests\n",
    "from bs4 import BeautifulSoup\n",
    "import json \n",
    "import re\n",
    "homepage ='https://www.mk.co.kr'\n"
   ]
  },
  {
   "cell_type": "code",
   "execution_count": 2,
   "id": "671becba",
   "metadata": {},
   "outputs": [],
   "source": [
    "response = requests.get(homepage)\n",
    "soup = BeautifulSoup(response.content, 'html.parser')"
   ]
  },
  {
   "cell_type": "code",
   "execution_count": 3,
   "id": "48a35be2",
   "metadata": {},
   "outputs": [],
   "source": [
    "results = soup.find_all('a')"
   ]
  },
  {
   "cell_type": "code",
   "execution_count": 4,
   "id": "e930d0eb",
   "metadata": {},
   "outputs": [],
   "source": [
    "#정규표현식으로 뉴스기사 url 찾기\n",
    "pattern = re.compile(r\".+news\\/[a-zA-Z]+\\/[0-9]+\")"
   ]
  },
  {
   "cell_type": "code",
   "execution_count": 5,
   "id": "63c9d87f",
   "metadata": {},
   "outputs": [],
   "source": [
    "link_collection =[] #url 모을 리스트"
   ]
  },
  {
   "cell_type": "code",
   "execution_count": 6,
   "id": "eccf1729",
   "metadata": {},
   "outputs": [],
   "source": [
    "for result in results:\n",
    "    link = result.get('href')\n",
    "    if pattern.match(link):\n",
    "#         print(link)\n",
    "        link_collection.append(link)"
   ]
  },
  {
   "cell_type": "code",
   "execution_count": 7,
   "id": "feb93125",
   "metadata": {},
   "outputs": [
    {
     "data": {
      "text/plain": [
       "159"
      ]
     },
     "execution_count": 7,
     "metadata": {},
     "output_type": "execute_result"
    }
   ],
   "source": [
    "len(link_collection)"
   ]
  },
  {
   "cell_type": "markdown",
   "id": "e0de0bfc",
   "metadata": {},
   "source": [
    "# link_collection 정제하기 "
   ]
  },
  {
   "cell_type": "code",
   "execution_count": 8,
   "id": "b6a4ac51",
   "metadata": {},
   "outputs": [],
   "source": [
    "# url에서 제외 해야할 키워드(부동산, 증권 category, notice)\n",
    "exclude_words = [\"realestate\", \"stock\",\"notice\", 'culture']#여행#공지\n",
    "\n",
    "#제외 해야할 url 모음\n",
    "exclude_links=[]"
   ]
  },
  {
   "cell_type": "code",
   "execution_count": 9,
   "id": "85123050",
   "metadata": {},
   "outputs": [],
   "source": [
    "for word in exclude_words: #키워드 제거할 링크 찾기 \n",
    "    for link in link_collection:\n",
    "        if word in link:\n",
    "            #print(link)\n",
    "            exclude_links.append(link)\n",
    "            \n",
    "for exclude in exclude_links: #링크 제거 \n",
    "    link_collection.remove(exclude)"
   ]
  },
  {
   "cell_type": "code",
   "execution_count": 10,
   "id": "5e109570",
   "metadata": {},
   "outputs": [
    {
     "name": "stdout",
     "output_type": "stream",
     "text": [
      "가져올 기사 개수: 138\n"
     ]
    },
    {
     "data": {
      "text/plain": [
       "['/news/politics/11076304',\n",
       " '/news/politics/11076307',\n",
       " '/news/politics/11076117']"
      ]
     },
     "execution_count": 10,
     "metadata": {},
     "output_type": "execute_result"
    }
   ],
   "source": [
    "print(\"가져올 기사 개수:\", len(link_collection))\n",
    "link_collection[:3]"
   ]
  },
  {
   "cell_type": "code",
   "execution_count": 11,
   "id": "676b1bfc",
   "metadata": {},
   "outputs": [],
   "source": [
    "for i in range(len(link_collection)):\n",
    "    if homepage not in link_collection[i]: #완전한 url이면 아니라면\n",
    "        link_collection[i] = homepage + link_collection[i]"
   ]
  },
  {
   "cell_type": "markdown",
   "id": "42e3b167",
   "metadata": {},
   "source": [
    "#  제목, 날짜, 소제목, 내용 가져오는 함수\n"
   ]
  },
  {
   "cell_type": "code",
   "execution_count": 12,
   "id": "c26167a1",
   "metadata": {},
   "outputs": [],
   "source": [
    "# 제목 받는 함수 \n",
    "def get_title(soup):\n",
    "    title = None\n",
    "    title = soup.find('h2', class_ = \"news_ttl\")\n",
    "    if title:\n",
    "        title = title.text.strip()\n",
    "#         print('제목:',title)\n",
    "    return title\n",
    "\n",
    "#날짜 받는 함수 \n",
    "def get_date(soup):\n",
    "    date = None \n",
    "    date = soup.find('dl', class_='registration')\n",
    "    date = date.find('dd').text.split()[0]    \n",
    "#     print('날짜:', date)\n",
    "    \n",
    "    return date\n",
    "\n",
    "#소제목, 본문 가져오는 함수 \n",
    "def get_text(soup): \n",
    "    content = soup.find('div', class_='news_cnt_detail_wrap') \n",
    "    heading = None #소제목\n",
    "    maintext = None #본문 \n",
    "    \n",
    "    #### 소제목 가져온 후 제거 #######\n",
    "    subcontent = content.find('div', class_='mid_title')\n",
    "    if subcontent:\n",
    "        heading = subcontent.text.strip() \n",
    "        subcontent.decompose() #본문에서 소제목 제거 (클리닝)\n",
    "#     print('소제목:', subheading)\n",
    "    \n",
    "    ########## 본문 글 가져오기##################\n",
    "    figures = content.find_all('div', class_='thumb_area img')\n",
    "    for f in figures:\n",
    "        f.decompose() # 중간 사진과 부가설명 제거 \n",
    "       \n",
    "    maintext = content.text.replace('\\n', '').strip()\n",
    "#     print(\"본문: \\n\", main_text)\n",
    "    \n",
    "    return heading, maintext"
   ]
  },
  {
   "cell_type": "markdown",
   "id": "d0739419",
   "metadata": {},
   "source": [
    "# 크롤링 멈춤 방지 에러받기 "
   ]
  },
  {
   "cell_type": "code",
   "execution_count": 13,
   "id": "3365f6ca",
   "metadata": {},
   "outputs": [
    {
     "name": "stdout",
     "output_type": "stream",
     "text": [
      "\n",
      "-error occurred:  https://www.mk.co.kr/news/world/11071728\n",
      "\n",
      "-error occurred:  https://www.mk.co.kr/news/world/11071727\n",
      "\n",
      "-no content: https://www.mk.co.kr/news/columnists/11073889\n",
      "\n",
      "-no content: https://www.mk.co.kr/news/photos/11075770\n",
      "\n",
      "-no content: https://www.mk.co.kr/news/photos/11075735\n",
      "\n",
      "-no content: https://www.mk.co.kr/news/sports/11075235\n",
      "\n",
      "-no content: https://www.mk.co.kr/news/sports/11075234\n",
      "THE END\n"
     ]
    }
   ],
   "source": [
    "##main\n",
    "article_data =[]\n",
    "\n",
    "for link in link_collection[:]:\n",
    "    try:\n",
    "        article = requests.get(link)\n",
    "        soup = BeautifulSoup(article.content, 'html.parser')\n",
    "    \n",
    "        heading, maintext = get_text(soup)\n",
    "        \n",
    "        if len(maintext)<100:#본문이 비어있는 형식의 뉴스\n",
    "            print(\"\\n-no content:\", link) #저장하지 않기\n",
    "        else: #저장해주기\n",
    "            news_article={\n",
    "                'title': get_title(soup),\n",
    "                'date' : get_date(soup),\n",
    "                'heading': heading,\n",
    "                'main_text' : maintext\n",
    "                }\n",
    "            article_data.append(news_article) \n",
    "            \n",
    "    except: #요청한 페이지를 찾을 수 없을 때 \n",
    "        print('\\n-error occurred: ', link)\n",
    "\n",
    "print('THE END')"
   ]
  },
  {
   "cell_type": "code",
   "execution_count": 14,
   "id": "901a79cc",
   "metadata": {},
   "outputs": [
    {
     "data": {
      "text/plain": [
       "131"
      ]
     },
     "execution_count": 14,
     "metadata": {},
     "output_type": "execute_result"
    }
   ],
   "source": [
    "len(article_data)"
   ]
  },
  {
   "cell_type": "code",
   "execution_count": 15,
   "id": "352986a4",
   "metadata": {},
   "outputs": [],
   "source": [
    "'''\n",
    "파일 쓰기\n",
    "'''\n",
    "\n",
    "with open('article_data.jsonl', encoding='utf-8', mode ='w') as file:\n",
    "    for article in article_data[:]:\n",
    "        file.write(json.dumps(article, ensure_ascii=False)+'\\n')"
   ]
  },
  {
   "cell_type": "code",
   "execution_count": 16,
   "id": "28cd2bd8",
   "metadata": {},
   "outputs": [
    {
     "data": {
      "text/plain": [
       "'\\n#파일읽기(검토용)\\n\\ndata_list=[]\\nwith open(\\'article_data.jsonl\\', \"r\", encoding=\\'utf-8\\') as file:\\n    for line in file:\\n        data_list.append(json.loads(line))\\nprint(len(data_list))\\n\\n\\nfor data in data_list[:3]:\\n    print(data)\\n    print(\\'$$$$$$$$$$$$$$$$$$$$$$$$$$\\')\\n'"
      ]
     },
     "execution_count": 16,
     "metadata": {},
     "output_type": "execute_result"
    }
   ],
   "source": [
    "'''\n",
    "#파일읽기(검토용)\n",
    "\n",
    "data_list=[]\n",
    "with open('article_data.jsonl', \"r\", encoding='utf-8') as file:\n",
    "    for line in file:\n",
    "        data_list.append(json.loads(line))\n",
    "print(len(data_list))\n",
    "\n",
    "\n",
    "for data in data_list[:3]:\n",
    "    print(data)\n",
    "    print('$$$$$$$$$$$$$$$$$$$$$$$$$$')\n",
    "'''"
   ]
  },
  {
   "cell_type": "markdown",
   "id": "5c2e101d",
   "metadata": {},
   "source": []
  }
 ],
 "metadata": {
  "kernelspec": {
   "display_name": "Python 3 (ipykernel)",
   "language": "python",
   "name": "python3"
  },
  "language_info": {
   "codemirror_mode": {
    "name": "ipython",
    "version": 3
   },
   "file_extension": ".py",
   "mimetype": "text/x-python",
   "name": "python",
   "nbconvert_exporter": "python",
   "pygments_lexer": "ipython3",
   "version": "3.9.18"
  },
  "toc": {
   "base_numbering": 1,
   "nav_menu": {},
   "number_sections": true,
   "sideBar": true,
   "skip_h1_title": false,
   "title_cell": "Table of Contents",
   "title_sidebar": "Contents",
   "toc_cell": false,
   "toc_position": {},
   "toc_section_display": true,
   "toc_window_display": false
  }
 },
 "nbformat": 4,
 "nbformat_minor": 5
}
